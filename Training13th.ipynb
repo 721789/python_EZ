{
 "cells": [
  {
   "cell_type": "code",
   "execution_count": 2,
   "id": "e536b180",
   "metadata": {},
   "outputs": [
    {
     "name": "stdout",
     "output_type": "stream",
     "text": [
      "123\n",
      "sum of digits =  6\n"
     ]
    }
   ],
   "source": [
    "n=int(input())\n",
    "s=0\n",
    "while(n!=0):\n",
    "    r=n%10\n",
    "    s+=r\n",
    "    n=n//10\n",
    "print(\"sum of digits = \",s)"
   ]
  },
  {
   "cell_type": "code",
   "execution_count": 7,
   "id": "3182ef95",
   "metadata": {},
   "outputs": [
    {
     "name": "stdout",
     "output_type": "stream",
     "text": [
      "21\n",
      "niven's number\n"
     ]
    }
   ],
   "source": [
    "#nivens number or harshed\n",
    "n=int(input())\n",
    "s=0\n",
    "t=n\n",
    "while(n!=0):\n",
    "    r=n%10\n",
    "    s+=r\n",
    "    n=n//10\n",
    "if t%s ==0:\n",
    "    print(\"niven's number\")\n",
    "else:\n",
    "    print(\"not a niven's number\")"
   ]
  },
  {
   "cell_type": "code",
   "execution_count": 8,
   "id": "3c492f2f",
   "metadata": {},
   "outputs": [
    {
     "name": "stdout",
     "output_type": "stream",
     "text": [
      "123\n",
      "3 2 1 "
     ]
    }
   ],
   "source": [
    "n=int(input())\n",
    "s=0\n",
    "t=n\n",
    "while(n!=0):\n",
    "    r=n%10\n",
    "    print(r,end=\" \")\n",
    "    n=n//10\n"
   ]
  },
  {
   "cell_type": "code",
   "execution_count": 9,
   "id": "ed53b98e",
   "metadata": {},
   "outputs": [
    {
     "name": "stdout",
     "output_type": "stream",
     "text": [
      "reverse of the number is: 4321\n"
     ]
    }
   ],
   "source": [
    "n=1234\n",
    "ns=str(n)\n",
    "rn=\"\".join(reversed(ns))\n",
    "print(\"reverse of the number is:\",rn)"
   ]
  },
  {
   "cell_type": "code",
   "execution_count": 11,
   "id": "00ce3e92",
   "metadata": {},
   "outputs": [
    {
     "name": "stdout",
     "output_type": "stream",
     "text": [
      "reversed number= 4321\n"
     ]
    }
   ],
   "source": [
    "def reverse(n):\n",
    "    if len(n)==0:\n",
    "        return n\n",
    "    return reverse(n[1:]) +n[0]\n",
    "n=1234\n",
    "ns=str(n)\n",
    "rn=reverse(ns)\n",
    "print(\"reversed number=\",rn)"
   ]
  },
  {
   "cell_type": "code",
   "execution_count": 22,
   "id": "a48607fc",
   "metadata": {},
   "outputs": [
    {
     "name": "stdout",
     "output_type": "stream",
     "text": [
      "avarage is= 48.5\n"
     ]
    }
   ],
   "source": [
    "#program to calculate firste n numbers sum\n",
    "for i in range(1,11):\n",
    "    sum+=i\n",
    "avg=sum/10\n",
    "print(\"avarage is=\",avg)\n",
    "    "
   ]
  },
  {
   "cell_type": "code",
   "execution_count": null,
   "id": "ec762369",
   "metadata": {},
   "outputs": [],
   "source": []
  }
 ],
 "metadata": {
  "kernelspec": {
   "display_name": "Python 3",
   "language": "python",
   "name": "python3"
  },
  "language_info": {
   "codemirror_mode": {
    "name": "ipython",
    "version": 3
   },
   "file_extension": ".py",
   "mimetype": "text/x-python",
   "name": "python",
   "nbconvert_exporter": "python",
   "pygments_lexer": "ipython3",
   "version": "3.8.8"
  }
 },
 "nbformat": 4,
 "nbformat_minor": 5
}
